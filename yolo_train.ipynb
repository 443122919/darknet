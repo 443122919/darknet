{
 "cells": [
  {
   "cell_type": "code",
   "execution_count": 4,
   "metadata": {},
   "outputs": [],
   "source": [
    "import numpy as np\n",
    "import torch\n",
    "import torch.utils.data as data\n",
    "import torchvision.transforms as transforms\n",
    "import matplotlib.pyplot as  plt\n",
    "from PIL import Image\n",
    "from util import *\n",
    "\n",
    "from custom_darknet import *"
   ]
  },
  {
   "cell_type": "code",
   "execution_count": 5,
   "metadata": {},
   "outputs": [],
   "source": [
    "a = open('D:/github/darknet/data/VOCdevkit/VOC2007/labels/000001.txt')"
   ]
  },
  {
   "cell_type": "code",
   "execution_count": 6,
   "metadata": {},
   "outputs": [
    {
     "name": "stdout",
     "output_type": "stream",
     "text": [
      "1\n",
      "1\n"
     ]
    }
   ],
   "source": [
    "for row in a.readlines():\n",
    "    \n",
    "    row = row.rstrip('\\n')\n",
    "    print(row[0])"
   ]
  },
  {
   "cell_type": "code",
   "execution_count": 7,
   "metadata": {},
   "outputs": [
    {
     "data": {
      "text/plain": [
       "[]"
      ]
     },
     "execution_count": 7,
     "metadata": {},
     "output_type": "execute_result"
    }
   ],
   "source": [
    "a.readlines()"
   ]
  },
  {
   "cell_type": "code",
   "execution_count": 8,
   "metadata": {},
   "outputs": [],
   "source": [
    "class DataLoader(data.Dataset):\n",
    "    def __init__(self, data_path, txt_list, classes=1000):\n",
    "        self.data_path = data_path\n",
    "        self.names = self.__dataset_info(txt_list)\n",
    "        self.N = len(self.names)\n",
    "        self.__image_transformer = transforms.Compose([\n",
    "            transforms.Resize(416, Image.BILINEAR),\n",
    "            transforms.CenterCrop(416),\n",
    "            transforms.ToTensor()])\n",
    "\n",
    "    def __dataset_info(self,txt_labels): \n",
    "        with open(txt_labels, 'r') as f:\n",
    "            images_list = f.readlines()\n",
    "\n",
    "        file_names = []\n",
    "        labels = []\n",
    "        for row in images_list:\n",
    "          #print(row)\n",
    "\n",
    "            row = row.rstrip('\\n').split('\\t')\n",
    "            \n",
    "            file_names.append(row[0][-10:-4])\n",
    "\n",
    "        return file_names\n",
    "    def get_labels(self,filename,index):\n",
    "        label_path = self.data_path + '/labels/' + self.names[index] + '.txt'\n",
    "        #print(open(label_path))\n",
    "        with open(label_path) as f:\n",
    "            label_list = f.readlines()\n",
    "        labels = []\n",
    "        #print(label_list)\n",
    "        for row in label_list:\n",
    "            row = row.rstrip('\\n').split(' ')\n",
    "            row = [float(i) for i in row]\n",
    "            row[0] = int(row[0])\n",
    "            #print(row.apply())\n",
    "            labels.append(row)\n",
    "            \n",
    "            \n",
    "        return labels\n",
    "    \n",
    "    def __getitem__(self, index):\n",
    "        #print(self.names)\n",
    "        framename = self.data_path + '/JPEGImages/' + self.names[index] + '.jpg'\n",
    "        #print()\n",
    "        #isExist = os.path.exists(framename)\n",
    "\n",
    "        img = Image.open(framename).convert('RGB')\n",
    "        label = self.get_labels(framename,index)\n",
    "\n",
    "\n",
    "        if img.size[0] != 255:\n",
    "            img = self.__image_transformer(img)\n",
    "\n",
    "\n",
    "        return img,label"
   ]
  },
  {
   "cell_type": "code",
   "execution_count": 9,
   "metadata": {},
   "outputs": [
    {
     "data": {
      "text/plain": [
       "(tensor([[[0.2824, 0.2745, 0.2745,  ..., 0.2510, 0.2627, 0.2588],\n",
       "          [0.2824, 0.2784, 0.2745,  ..., 0.2471, 0.2706, 0.2627],\n",
       "          [0.2824, 0.2902, 0.2824,  ..., 0.2588, 0.2667, 0.2706],\n",
       "          ...,\n",
       "          [0.3490, 0.3412, 0.3333,  ..., 0.2627, 0.2627, 0.2510],\n",
       "          [0.3373, 0.3333, 0.3333,  ..., 0.2667, 0.2627, 0.2471],\n",
       "          [0.3216, 0.3294, 0.3373,  ..., 0.2627, 0.2588, 0.2431]],\n",
       " \n",
       "         [[0.2745, 0.2667, 0.2667,  ..., 0.2510, 0.2627, 0.2588],\n",
       "          [0.2745, 0.2706, 0.2667,  ..., 0.2471, 0.2706, 0.2627],\n",
       "          [0.2745, 0.2824, 0.2745,  ..., 0.2588, 0.2667, 0.2706],\n",
       "          ...,\n",
       "          [0.3490, 0.3412, 0.3333,  ..., 0.2667, 0.2667, 0.2549],\n",
       "          [0.3412, 0.3333, 0.3333,  ..., 0.2706, 0.2667, 0.2510],\n",
       "          [0.3255, 0.3294, 0.3373,  ..., 0.2667, 0.2627, 0.2549]],\n",
       " \n",
       "         [[0.2784, 0.2706, 0.2706,  ..., 0.2510, 0.2627, 0.2588],\n",
       "          [0.2784, 0.2745, 0.2706,  ..., 0.2471, 0.2706, 0.2627],\n",
       "          [0.2784, 0.2863, 0.2784,  ..., 0.2588, 0.2667, 0.2706],\n",
       "          ...,\n",
       "          [0.3569, 0.3490, 0.3412,  ..., 0.2745, 0.2745, 0.2706],\n",
       "          [0.3490, 0.3412, 0.3412,  ..., 0.2784, 0.2745, 0.2627],\n",
       "          [0.3333, 0.3373, 0.3451,  ..., 0.2745, 0.2706, 0.2667]]]),\n",
       " [[6, 0.507, 0.551051051051051, 0.39, 0.5195195195195195]])"
      ]
     },
     "execution_count": 9,
     "metadata": {},
     "output_type": "execute_result"
    }
   ],
   "source": [
    "data_path = 'D:/github/darknet/data/VOCdevkit/VOC2007'\n",
    "txt_path = 'D:/github/darknet/data/2007_train.txt'\n",
    "train_data = DataLoader(data_path,txt_path)\n",
    "train_data[0]"
   ]
  },
  {
   "cell_type": "code",
   "execution_count": 10,
   "metadata": {},
   "outputs": [
    {
     "data": {
      "text/plain": [
       "torch.Size([3, 416, 416])"
      ]
     },
     "execution_count": 10,
     "metadata": {},
     "output_type": "execute_result"
    }
   ],
   "source": [
    "sample_data = train_data[0][0].cuda()\n",
    "sample_data.shape"
   ]
  },
  {
   "cell_type": "code",
   "execution_count": 15,
   "metadata": {},
   "outputs": [
    {
     "data": {
      "text/plain": [
       "<matplotlib.image.AxesImage at 0x1cc86bfaec8>"
      ]
     },
     "execution_count": 15,
     "metadata": {},
     "output_type": "execute_result"
    },
    {
     "data": {
      "image/png": "[encoded data removed]",
      "text/plain": [
       "<Figure size 432x288 with 1 Axes>"
      ]
     },
     "metadata": {
      "needs_background": "light"
     },
     "output_type": "display_data"
    }
   ],
   "source": [
    "plt.imshow(sample_data.cpu().permute(1, 2, 0))"
   ]
  },
  {
   "cell_type": "code",
   "execution_count": 92,
   "metadata": {},
   "outputs": [],
   "source": [
    "model = Darknet(\"cfg/yolov3-custom.cfg\")\n",
    "model.load_weights('yolov3.weights')\n",
    "model = model.cuda()"
   ]
  },
  {
   "cell_type": "code",
   "execution_count": 10,
   "metadata": {},
   "outputs": [
    {
     "data": {
      "text/plain": [
       "{'type': 'net',\n",
       " 'batch': '64',\n",
       " 'subdivisions': '16',\n",
       " 'width': '416',\n",
       " 'height': '416',\n",
       " 'channels': '3',\n",
       " 'momentum': '0.9',\n",
       " 'decay': '0.0005',\n",
       " 'angle': '0',\n",
       " 'saturation': '1.5',\n",
       " 'exposure': '1.5',\n",
       " 'hue': '.1',\n",
       " 'learning_rate': '0.001',\n",
       " 'burn_in': '1000',\n",
       " 'max_batches': '500200',\n",
       " 'policy': 'steps',\n",
       " 'steps': '400000,450000',\n",
       " 'scales': '.1,.1'}"
      ]
     },
     "execution_count": 10,
     "metadata": {},
     "output_type": "execute_result"
    }
   ],
   "source": [
    "model.net_info"
   ]
  },
  {
   "cell_type": "code",
   "execution_count": 96,
   "metadata": {
    "collapsed": true,
    "jupyter": {
     "outputs_hidden": true
    }
   },
   "outputs": [
    {
     "name": "stderr",
     "output_type": "stream",
     "text": [
      "D:\\anaconda\\lib\\site-packages\\ipykernel_launcher.py:1: UserWarning: To copy construct from a tensor, it is recommended to use sourceTensor.clone().detach() or sourceTensor.clone().detach().requires_grad_(True), rather than torch.tensor(sourceTensor).\n",
      "  \"\"\"Entry point for launching an IPython kernel.\n"
     ]
    },
    {
     "name": "stdout",
     "output_type": "stream",
     "text": [
      "conv torch.Size([1, 32, 416, 416])\n",
      "conv torch.Size([1, 64, 208, 208])\n",
      "conv torch.Size([1, 32, 208, 208])\n",
      "conv torch.Size([1, 64, 208, 208])\n",
      "shortcut torch.Size([1, 64, 208, 208])\n",
      "conv torch.Size([1, 128, 104, 104])\n",
      "conv torch.Size([1, 64, 104, 104])\n",
      "conv torch.Size([1, 128, 104, 104])\n",
      "shortcut torch.Size([1, 128, 104, 104])\n",
      "conv torch.Size([1, 64, 104, 104])\n",
      "conv torch.Size([1, 128, 104, 104])\n",
      "shortcut torch.Size([1, 128, 104, 104])\n",
      "conv torch.Size([1, 256, 52, 52])\n",
      "conv torch.Size([1, 128, 52, 52])\n",
      "conv torch.Size([1, 256, 52, 52])\n",
      "shortcut torch.Size([1, 256, 52, 52])\n",
      "conv torch.Size([1, 128, 52, 52])\n",
      "conv torch.Size([1, 256, 52, 52])\n",
      "shortcut torch.Size([1, 256, 52, 52])\n",
      "conv torch.Size([1, 128, 52, 52])\n",
      "conv torch.Size([1, 256, 52, 52])\n",
      "shortcut torch.Size([1, 256, 52, 52])\n",
      "conv torch.Size([1, 128, 52, 52])\n",
      "conv torch.Size([1, 256, 52, 52])\n",
      "shortcut torch.Size([1, 256, 52, 52])\n",
      "conv torch.Size([1, 128, 52, 52])\n",
      "conv torch.Size([1, 256, 52, 52])\n",
      "shortcut torch.Size([1, 256, 52, 52])\n",
      "conv torch.Size([1, 128, 52, 52])\n",
      "conv torch.Size([1, 256, 52, 52])\n",
      "shortcut torch.Size([1, 256, 52, 52])\n",
      "conv torch.Size([1, 128, 52, 52])\n",
      "conv torch.Size([1, 256, 52, 52])\n",
      "shortcut torch.Size([1, 256, 52, 52])\n",
      "conv torch.Size([1, 128, 52, 52])\n",
      "conv torch.Size([1, 256, 52, 52])\n",
      "shortcut torch.Size([1, 256, 52, 52])\n",
      "conv torch.Size([1, 512, 26, 26])\n",
      "conv torch.Size([1, 256, 26, 26])\n",
      "conv torch.Size([1, 512, 26, 26])\n",
      "shortcut torch.Size([1, 512, 26, 26])\n",
      "conv torch.Size([1, 256, 26, 26])\n",
      "conv torch.Size([1, 512, 26, 26])\n",
      "shortcut torch.Size([1, 512, 26, 26])\n",
      "conv torch.Size([1, 256, 26, 26])\n",
      "conv torch.Size([1, 512, 26, 26])\n",
      "shortcut torch.Size([1, 512, 26, 26])\n",
      "conv torch.Size([1, 256, 26, 26])\n",
      "conv torch.Size([1, 512, 26, 26])\n",
      "shortcut torch.Size([1, 512, 26, 26])\n",
      "conv torch.Size([1, 256, 26, 26])\n",
      "conv torch.Size([1, 512, 26, 26])\n",
      "shortcut torch.Size([1, 512, 26, 26])\n",
      "conv torch.Size([1, 256, 26, 26])\n",
      "conv torch.Size([1, 512, 26, 26])\n",
      "shortcut torch.Size([1, 512, 26, 26])\n",
      "conv torch.Size([1, 256, 26, 26])\n",
      "conv torch.Size([1, 512, 26, 26])\n",
      "shortcut torch.Size([1, 512, 26, 26])\n",
      "conv torch.Size([1, 256, 26, 26])\n",
      "conv torch.Size([1, 512, 26, 26])\n",
      "shortcut torch.Size([1, 512, 26, 26])\n",
      "conv torch.Size([1, 1024, 13, 13])\n",
      "conv torch.Size([1, 512, 13, 13])\n",
      "conv torch.Size([1, 1024, 13, 13])\n",
      "shortcut torch.Size([1, 1024, 13, 13])\n",
      "conv torch.Size([1, 512, 13, 13])\n",
      "conv torch.Size([1, 1024, 13, 13])\n",
      "shortcut torch.Size([1, 1024, 13, 13])\n",
      "conv torch.Size([1, 512, 13, 13])\n",
      "conv torch.Size([1, 1024, 13, 13])\n",
      "shortcut torch.Size([1, 1024, 13, 13])\n",
      "conv torch.Size([1, 512, 13, 13])\n",
      "conv torch.Size([1, 1024, 13, 13])\n",
      "shortcut torch.Size([1, 1024, 13, 13])\n",
      "conv torch.Size([1, 512, 13, 13])\n",
      "conv torch.Size([1, 1024, 13, 13])\n",
      "conv torch.Size([1, 512, 13, 13])\n",
      "conv torch.Size([1, 1024, 13, 13])\n",
      "conv torch.Size([1, 512, 13, 13])\n",
      "conv torch.Size([1, 1024, 13, 13])\n",
      "conv torch.Size([1, 255, 13, 13])\n",
      "1 85 3 13\n",
      "YOLO torch.Size([1, 507, 85]) 416 [(116, 90), (156, 198), (373, 326)] 80\n",
      "route torch.Size([1, 512, 13, 13])\n",
      "conv torch.Size([1, 256, 13, 13])\n",
      "conv torch.Size([1, 256, 26, 26])\n",
      "route torch.Size([1, 768, 26, 26])\n",
      "conv torch.Size([1, 256, 26, 26])\n",
      "conv torch.Size([1, 512, 26, 26])\n",
      "conv torch.Size([1, 256, 26, 26])\n",
      "conv torch.Size([1, 512, 26, 26])\n",
      "conv torch.Size([1, 256, 26, 26])\n",
      "conv torch.Size([1, 512, 26, 26])\n",
      "conv torch.Size([1, 255, 26, 26])\n",
      "1 85 3 26\n",
      "YOLO torch.Size([1, 2028, 85]) 416 [(30, 61), (62, 45), (59, 119)] 80\n",
      "route torch.Size([1, 256, 26, 26])\n",
      "conv torch.Size([1, 128, 26, 26])\n",
      "conv torch.Size([1, 128, 52, 52])\n",
      "route torch.Size([1, 384, 52, 52])\n",
      "conv torch.Size([1, 128, 52, 52])\n",
      "conv torch.Size([1, 256, 52, 52])\n",
      "conv torch.Size([1, 128, 52, 52])\n",
      "conv torch.Size([1, 256, 52, 52])\n",
      "conv torch.Size([1, 128, 52, 52])\n",
      "conv torch.Size([1, 256, 52, 52])\n",
      "conv torch.Size([1, 255, 52, 52])\n",
      "1 85 3 52\n",
      "YOLO torch.Size([1, 8112, 85]) 416 [(10, 13), (16, 30), (33, 23)] 80\n"
     ]
    }
   ],
   "source": [
    "\n",
    "output = model(torch.tensor(sample_data.reshape(-1,3,416,416)),True)"
   ]
  },
  {
   "cell_type": "code",
   "execution_count": 75,
   "metadata": {},
   "outputs": [
    {
     "data": {
      "text/plain": [
       "tensor([[[ 13.8920,  16.3879, 107.6102,  ...,   0.4433,   0.5709,   0.5226],\n",
       "         [ 17.7196,  20.1235, 168.8758,  ...,   0.5494,   0.5499,   0.4925],\n",
       "         [ 18.8663,  16.9606, 333.5635,  ...,   0.4805,   0.4829,   0.5556],\n",
       "         ...,\n",
       "         [412.3426, 411.4401,   9.7593,  ...,   0.5001,   0.5086,   0.5937],\n",
       "         [411.7588, 412.5188,  15.4275,  ...,   0.5220,   0.4386,   0.4726],\n",
       "         [412.0357, 412.6851,  31.7159,  ...,   0.6167,   0.5567,   0.5245]]],\n",
       "       device='cuda:0')"
      ]
     },
     "execution_count": 75,
     "metadata": {},
     "output_type": "execute_result"
    }
   ],
   "source": [
    "output"
   ]
  },
  {
   "cell_type": "code",
   "execution_count": 83,
   "metadata": {},
   "outputs": [],
   "source": [
    "prediction = output\n",
    "confidence = 0.5\n",
    "num_classes=80\n",
    "nms_conf = 0.5"
   ]
  },
  {
   "cell_type": "code",
   "execution_count": 94,
   "metadata": {},
   "outputs": [
    {
     "name": "stdout",
     "output_type": "stream",
     "text": [
      "tensor([ 202,  447,  456,  702,  814,  933, 1058, 1060, 1063, 1067, 1070, 1086,\n",
      "        1100, 1104, 1116, 1145, 1177, 1180, 1181, 1183, 1185, 1194, 1204, 1219,\n",
      "        1220, 1228, 1232, 1233, 1251, 1252, 1260, 1263, 1285, 1299, 1301, 1312,\n",
      "        1325, 1327, 1351, 1356, 1362, 1375, 1388, 1392, 1393, 1420, 1427, 1432,\n",
      "        1443, 1445, 1447, 1450, 1464, 1465, 1476, 1498, 1507, 1540, 1543, 1548,\n",
      "        1584, 1587, 1590, 1605, 1646, 1656, 1689, 1695, 1702, 1703, 1704, 1756,\n",
      "        1757, 1759, 1761, 1762, 1815, 1816, 1828, 2013, 2081, 2087, 2157, 2164,\n",
      "        2220, 2228, 2286, 2340, 2341, 2345, 2346, 2347, 2352, 2402, 2405, 2409,\n",
      "        2411, 2416, 2450, 2481, 2483, 2484, 2554, 2555, 2557, 2605, 2673, 2674,\n",
      "        2675, 2739, 2803, 2805, 2934, 2990, 2991, 3033, 3332, 3334, 3336, 3339,\n",
      "        3343, 3374, 3388, 3393, 3445, 3452, 3469, 3492, 3493, 3495, 3513, 3516,\n",
      "        3518, 3529, 3537, 3549, 3554, 3564, 3577, 3586, 3592, 3609, 3616, 3619],\n",
      "       device='cuda:0')\n",
      "tensor([[118.7203, 242.6327, 252.8342,  ...,   0.5180,   0.8385,   0.0000],\n",
      "        [ 16.4157, 124.0877,  59.0743,  ...,   0.5622,   0.6499,   0.0000],\n",
      "        [223.4715, 127.0718, 116.9262,  ...,   0.6197,   0.7050,   0.0000],\n",
      "        ...,\n",
      "        [163.2408, 425.3763,  61.1047,  ...,   0.5163,   0.6045,   0.0000],\n",
      "        [222.5586, 424.7775,  81.1510,  ...,   0.5365,   0.6305,   0.0000],\n",
      "        [248.0428, 424.8057,  88.1285,  ...,   0.5502,   0.6022,   0.0000]],\n",
      "       device='cuda:0')\n"
     ]
    }
   ],
   "source": [
    "\n",
    "conf_mask = (prediction[:,:,4] > confidence).float().unsqueeze(2)\n",
    "prediction = prediction*conf_mask\n",
    "\n",
    "box_corner = prediction.new(prediction.shape)\n",
    "box_corner[:,:,0] = (prediction[:,:,0] - prediction[:,:,2]/2)\n",
    "box_corner[:,:,1] = (prediction[:,:,1] - prediction[:,:,3]/2)\n",
    "box_corner[:,:,2] = (prediction[:,:,0] + prediction[:,:,2]/2) \n",
    "box_corner[:,:,3] = (prediction[:,:,1] + prediction[:,:,3]/2)\n",
    "prediction[:,:,:4] = box_corner[:,:,:4]\n",
    "\n",
    "batch_size = prediction.size(0)\n",
    "\n",
    "write = False\n",
    "\n",
    "#print(prediction)\n",
    "\n",
    "for ind in range(batch_size):\n",
    "    image_pred = prediction[ind]          #image Tensor\n",
    "   #confidence threshholding \n",
    "   #NMS\n",
    "    \n",
    "    max_conf, max_conf_score = torch.max(image_pred[:,5:5+ num_classes], 1)\n",
    "    max_conf = max_conf.float().unsqueeze(1)\n",
    "    max_conf_score = max_conf_score.float().unsqueeze(1)\n",
    "    seq = (image_pred[:,:5], max_conf, max_conf_score)\n",
    "    #print(max_conf_score.shape)\n",
    "    image_pred = torch.cat(seq, 1)\n",
    "\n",
    "    non_zero_ind =  (torch.nonzero(image_pred[:,4]))\n",
    "    #print(non_zero_ind)\n",
    "    try:\n",
    "        image_pred_ = image_pred[non_zero_ind.squeeze(),:].view(-1,7)\n",
    "    except:\n",
    "        continue\n",
    "\n",
    "    if image_pred_.shape[0] == 0:\n",
    "        continue       \n",
    "#        \n",
    "    #print(image_pred_.shape)\n",
    "    #Get the various classes detected in the image\n",
    "    img_classes = unique(image_pred_[:,-1])  # -1 index holds the class index\n",
    "    \n",
    "    for cls in img_classes:\n",
    "        #perform NMS\n",
    "\n",
    "\n",
    "        #get the detections with one particular class\n",
    "        cls_mask = image_pred_*(image_pred_[:,-1] == cls).float().unsqueeze(1)\n",
    "        \n",
    "        class_mask_ind = torch.nonzero(cls_mask[:,-2]).squeeze()\n",
    "        print(class_mask_ind)\n",
    "        image_pred_class = image_pred_[class_mask_ind].view(-1,7)\n",
    "        print(image_pred_class)\n",
    "        #sort the detections such that the entry with the maximum objectness\n",
    "        #confidence is at the top\n",
    "        conf_sort_index = torch.sort(image_pred_class[:,4], descending = True )[1]\n",
    "        image_pred_class = image_pred_class[conf_sort_index]\n",
    "        idx = image_pred_class.size(0)   #Number of detections\n",
    "\n",
    "        for i in range(idx):\n",
    "            #Get the IOUs of all boxes that come after the one we are looking at \n",
    "            #in the loop\n",
    "            try:\n",
    "                ious = bbox_iou(image_pred_class[i].unsqueeze(0), image_pred_class[i+1:])\n",
    "            except ValueError:\n",
    "                break\n",
    "\n",
    "            except IndexError:\n",
    "                break\n",
    "\n",
    "            #Zero out all the detections that have IoU > treshhold\n",
    "            iou_mask = (ious < nms_conf).float().unsqueeze(1)\n",
    "            image_pred_class[i+1:] *= iou_mask       \n",
    "\n",
    "            #Remove the non-zero entries\n",
    "            non_zero_ind = torch.nonzero(image_pred_class[:,4]).squeeze()\n",
    "            image_pred_class = image_pred_class[non_zero_ind].view(-1,7)\n",
    "\n",
    "        batch_ind = image_pred_class.new(image_pred_class.size(0), 1).fill_(ind)      #Repeat the batch_id for as many detections of the class cls in the image\n",
    "        seq = batch_ind, image_pred_class\n",
    "\n",
    "        if not write:\n",
    "            output = torch.cat(seq,1)\n",
    "            write = True\n",
    "        else:\n",
    "            out = torch.cat(seq,1)\n",
    "            output = torch.cat((output,out))\n",
    "        break"
   ]
  },
  {
   "cell_type": "code",
   "execution_count": 97,
   "metadata": {},
   "outputs": [],
   "source": [
    "output_img = write_results(output,0.5,80).detach()"
   ]
  },
  {
   "cell_type": "code",
   "execution_count": 99,
   "metadata": {},
   "outputs": [
    {
     "data": {
      "text/plain": [
       "tensor([[0.0000e+00, 9.4162e+01, 1.1767e+02, 3.1925e+02, 3.3843e+02, 9.8682e-01,\n",
       "         3.1454e-01, 5.0000e+00],\n",
       "        [0.0000e+00, 1.0100e+02, 1.1400e+02, 3.1522e+02, 3.2979e+02, 9.6071e-01,\n",
       "         1.1702e-01, 2.8000e+01]], device='cuda:0')"
      ]
     },
     "execution_count": 99,
     "metadata": {},
     "output_type": "execute_result"
    }
   ],
   "source": [
    "output_img"
   ]
  },
  {
   "cell_type": "code",
   "execution_count": 60,
   "metadata": {},
   "outputs": [
    {
     "data": {
      "text/plain": [
       "<matplotlib.image.AxesImage at 0x1b182b6ff08>"
      ]
     },
     "execution_count": 60,
     "metadata": {},
     "output_type": "execute_result"
    },
    {
     "data": {
      "image/png": "[encoded data removed]",
      "text/plain": [
       "<Figure size 432x288 with 1 Axes>"
      ]
     },
     "metadata": {
      "needs_background": "light"
     },
     "output_type": "display_data"
    }
   ],
   "source": [
    "output_label = output_"
   ]
  },
  {
   "cell_type": "code",
   "execution_count": null,
   "metadata": {},
   "outputs": [],
   "source": [
    "class class_loss(torch.nn.Module):\n",
    "    def __int__(self,object_threshold):\n",
    "        super(class_loss,self).__init__()\n",
    "        self.object_threshold = object_threshold\n",
    "        \n",
    "    def forward(output,truth):\n",
    "        for box in output:\n",
    "            if box[:4] >= self.object_threshold:\n",
    "                obj_sum = box.sum(4)"
   ]
  },
  {
   "cell_type": "code",
   "execution_count": null,
   "metadata": {},
   "outputs": [],
   "source": [
    "class total_loss(torch.nn.Module):\n",
    "    def __int__(self,lambda_nobject=0.5,lambda_coord=5):\n",
    "        self.lambda_nobject = lambda_nobject\n",
    "        self.lambda_coord = lambda_coord\n",
    "    def forward(output,truth):\n",
    "        classes = truth[:,]"
   ]
  }
 ],
 "metadata": {
  "kernelspec": {
   "display_name": "Python 3",
   "language": "python",
   "name": "python3"
  },
  "language_info": {
   "codemirror_mode": {
    "name": "ipython",
    "version": 3
   },
   "file_extension": ".py",
   "mimetype": "text/x-python",
   "name": "python",
   "nbconvert_exporter": "python",
   "pygments_lexer": "ipython3",
   "version": "3.7.4"
  }
 },
 "nbformat": 4,
 "nbformat_minor": 4
}
